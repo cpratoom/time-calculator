{
 "cells": [
  {
   "cell_type": "code",
   "execution_count": 228,
   "metadata": {},
   "outputs": [],
   "source": [
    "start = \"10:00 PM\"\n",
    "duration = \"0:30\"\n",
    "startday = \"Monday\""
   ]
  },
  {
   "cell_type": "code",
   "execution_count": 229,
   "metadata": {},
   "outputs": [
    {
     "name": "stdout",
     "output_type": "stream",
     "text": [
      "current time: 10:00 PM, duration: 0:30\n",
      "24HR format: 22:0\n",
      "duration: 0h, 30m\n",
      "24HR: 22:30, N: 0\n"
     ]
    }
   ],
   "source": [
    "#import re\n",
    "\n",
    "#exp = \"(\\d+:\\d+)\\s*(\\w+)\"\n",
    "#match = re.match(exp, start)\n",
    "\n",
    "#g1 = match.groups()[0]\n",
    "#g2 = match.groups()[1]\n",
    "\n",
    "one, two = start.split(\":\")\n",
    "\n",
    "g1 = \"{}:{}\".format(one[:2],two[:2])\n",
    "g2 = two[-2:]\n",
    "\n",
    "#print(\"current time: {} {}, duration: {}\".format(g1, g2, duration))\n",
    "\n",
    "# convert tin to 24HR format\n",
    "pm = (1 if \"pm\" in start.lower() else 0)\n",
    "\n",
    "one, two = g1.split(':')\n",
    "tin = {\"hh\": int(one) + 12*pm, \"mm\": int(two)}\n",
    "#print(\"24HR format: {}:{}\".format(tin[\"hh\"], tin[\"mm\"]))\n",
    "\n",
    "# duration\n",
    "one, two = duration.split(':')\n",
    "dt = {\"hh\": int(one), \"mm\": int(two)} \n",
    "#print(\"duration: {}h, {}m\".format(dt[\"hh\"], dt[\"mm\"]))\n",
    "\n",
    "\n",
    "# rounding up tout=tin+dt xtra mins to the hour, and xtra hours to the day\n",
    "xhours, mins = divmod(tin[\"mm\"]+dt[\"mm\"], 60)\n",
    "xdays, hours = divmod(tin[\"hh\"]+dt[\"hh\"]+xhours, 24)\n",
    "\n",
    "#print( \"24HR: {}:{}, N: {}\".format(str(hours).rjust(2, '0'), str(mins).rjust(2, '0'), xdays) )\n"
   ]
  },
  {
   "cell_type": "code",
   "execution_count": 233,
   "metadata": {},
   "outputs": [],
   "source": [
    "# format tout in 12HR format + day\n",
    "apidx, hh12 = divmod(hours, 12)\n",
    "ap = [\"AM\", \"PM\"]\n",
    "dayofweek = ['monday', 'tuesday', 'wednesday', 'thursday', 'friday', 'saturday', 'sunday']\n",
    "\n",
    "a, idxw = divmod(dayofweek.index(startday.lower())+xdays, 7)\n"
   ]
  },
  {
   "cell_type": "code",
   "execution_count": 231,
   "metadata": {},
   "outputs": [
    {
     "name": "stdout",
     "output_type": "stream",
     "text": [
      "10:00 PM, 0:30, Monday\n",
      "10:30 PM\n",
      "10:30 PM, Monday\n"
     ]
    }
   ],
   "source": [
    "print(\"{}, {}, {}\".format(start, duration, startday))\n",
    "\n",
    "if startday == None:\n",
    "\n",
    "        \n",
    "new_time = \"{}:{} {}\".format(str(hh12).rjust(2, '0'), \\\n",
    "                             str(mins).rjust(2, '0'), \\\n",
    "                             ap[apidx])\n",
    "else:\n",
    "\n",
    "if xdays==0:\n",
    "    new_time = \"{}:{} {}, {}\".format(str(hh12).rjust(2, '0'), \\\n",
    "                                     str(mins).rjust(2, '0'), \\\n",
    "                                     ap[apidx], \\\n",
    "                                     dayofweek[idxw].capitalize())\n",
    "else:\n",
    "    xdays_label = (\"(next day)\" if xdays==1 else \"({} days later)\".format(xdays))\n",
    "    new_time = \"{}:{} {}, {} {}\".format(str(hh12).rjust(2, '0'), \\\n",
    "                                        str(mins).rjust(2, '0'), \\\n",
    "                                        ap[apidx], \\\n",
    "                                        dayofweek[idxw].capitalize(), \\\n",
    "                                        xdays_label)\n",
    "\n",
    "print(new_time)\n"
   ]
  },
  {
   "cell_type": "code",
   "execution_count": 241,
   "metadata": {},
   "outputs": [
    {
     "name": "stdout",
     "output_type": "stream",
     "text": [
      "5:42 PM\n",
      "3:07 PM\n",
      "2:59 AM, (next day)\n",
      "6:18 AM, (20 days later)\n",
      "5:42 PM, Monday\n",
      "2:59 AM, Sunday (next day)\n"
     ]
    }
   ],
   "source": [
    "\n",
    "print( add_time(\"3:30 PM\", \"2:12\") )\n",
    "print( add_time(\"11:55 AM\", \"3:12\") )\n",
    "print( add_time(\"2:59 AM\", \"24:00\") )\n",
    "print( add_time(\"8:16 PM\", \"466:02\") )\n",
    "print( add_time(\"3:30 PM\", \"2:12\", \"Monday\") )\n",
    "print( add_time(\"2:59 AM\", \"24:00\", \"saturDay\") )\n"
   ]
  },
  {
   "cell_type": "code",
   "execution_count": 240,
   "metadata": {},
   "outputs": [],
   "source": [
    "def add_time(start, duration, startday=None):\n",
    "    one, two = start.split(\":\")\n",
    "\n",
    "    g1 = \"{}:{}\".format(one[:2],two[:2])\n",
    "    g2 = two[-2:]\n",
    "    \n",
    "    # convert tin to 24HR format\n",
    "    pm = (1 if \"pm\" in start.lower() else 0)\n",
    "    \n",
    "    one, two = g1.split(':')\n",
    "    tin = {\"hh\": int(one) + 12*pm, \"mm\": int(two)}\n",
    "    \n",
    "    # duration\n",
    "    one, two = duration.split(':')\n",
    "    dt = {\"hh\": int(one), \"mm\": int(two)} \n",
    "    \n",
    "    # rounding up tout=tin+dt xtra mins to the hour, and xtra hours to the day\n",
    "    xhours, mins = divmod(tin[\"mm\"]+dt[\"mm\"], 60)\n",
    "    xdays, hours = divmod(tin[\"hh\"]+dt[\"hh\"]+xhours, 24)\n",
    "\n",
    "    # format tout in 12HR format + day\n",
    "    apidx, hh12 = divmod(hours, 12)\n",
    "    ap = [\"AM\", \"PM\"]\n",
    "    \n",
    "    dayofweek = ['monday', 'tuesday', 'wednesday', 'thursday', 'friday', 'saturday', 'sunday']\n",
    "    \n",
    "    #term1 = str(hh12).rjust(2, '0')\n",
    "    term1 = str(hh12)\n",
    "    term2 = str(mins).rjust(2, '0')\n",
    "    term3 = ap[apidx]\n",
    "    \n",
    "    if startday == None:        \n",
    "        if xdays==0:\n",
    "            new_time = \"{}:{} {}\".format(term1, term2, term3)\n",
    "        else:\n",
    "            xdays_label = (\"(next day)\" if xdays==1 else \"({} days later)\".format(xdays))\n",
    "            new_time = \"{}:{} {}, {}\".format(term1, term2, term3, xdays_label)\n",
    "    else:\n",
    "        a, idxw = divmod(dayofweek.index(startday.lower())+xdays, 7)\n",
    "        term4 = dayofweek[idxw].capitalize()\n",
    "\n",
    "        if xdays==0:\n",
    "            new_time = \"{}:{} {}, {}\".format(term1, term2, term3, term4)\n",
    "        else:\n",
    "            xdays_label = (\"(next day)\" if xdays==1 else \"({} days later)\".format(xdays))            \n",
    "            new_time = \"{}:{} {}, {} {}\".format(term1, term2, term3, term4, xdays_label)\n",
    "\n",
    "    return new_time"
   ]
  }
 ],
 "metadata": {
  "kernelspec": {
   "display_name": "Python 3",
   "language": "python",
   "name": "python3"
  },
  "language_info": {
   "codemirror_mode": {
    "name": "ipython",
    "version": 3
   },
   "file_extension": ".py",
   "mimetype": "text/x-python",
   "name": "python",
   "nbconvert_exporter": "python",
   "pygments_lexer": "ipython3",
   "version": "3.7.6"
  }
 },
 "nbformat": 4,
 "nbformat_minor": 4
}
